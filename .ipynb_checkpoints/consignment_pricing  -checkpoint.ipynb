{
 "cells": [
  {
   "cell_type": "code",
   "execution_count": 1,
   "metadata": {
    "id": "YsmcfQ8vuFwE"
   },
   "outputs": [],
   "source": [
    "import pandas as pd\n",
    "import numpy as np\n",
    "import matplotlib.pyplot as plt\n",
    "import seaborn as sns\n"
   ]
  },
  {
   "cell_type": "code",
   "execution_count": 2,
   "metadata": {
    "id": "CJyzDzYBElSy",
    "scrolled": true
   },
   "outputs": [
    {
     "ename": "FileNotFoundError",
     "evalue": "[Errno 2] No such file or directory: 'C:/Users/User/Desktop/SCMS_Delivery_History_Dataset.csv'",
     "output_type": "error",
     "traceback": [
      "\u001b[1;31m---------------------------------------------------------------------------\u001b[0m",
      "\u001b[1;31mFileNotFoundError\u001b[0m                         Traceback (most recent call last)",
      "Input \u001b[1;32mIn [2]\u001b[0m, in \u001b[0;36m<cell line: 1>\u001b[1;34m()\u001b[0m\n\u001b[1;32m----> 1\u001b[0m data\u001b[38;5;241m=\u001b[39m\u001b[43mpd\u001b[49m\u001b[38;5;241;43m.\u001b[39;49m\u001b[43mread_csv\u001b[49m\u001b[43m(\u001b[49m\u001b[38;5;124;43m'\u001b[39;49m\u001b[38;5;124;43mC:/Users/User/Desktop/SCMS_Delivery_History_Dataset.csv\u001b[39;49m\u001b[38;5;124;43m'\u001b[39;49m\u001b[43m)\u001b[49m\n\u001b[0;32m      2\u001b[0m column_details\u001b[38;5;241m=\u001b[39mpd\u001b[38;5;241m.\u001b[39mread_csv(\u001b[38;5;124m'\u001b[39m\u001b[38;5;124mC:/Users/User/Downloads/SCMS_Delivery_History_Dataset_Data_Dictionary_20150929 (2) (1).csv\u001b[39m\u001b[38;5;124m'\u001b[39m)\n",
      "File \u001b[1;32m~\\AppData\\Roaming\\Python\\Python39\\site-packages\\pandas\\util\\_decorators.py:311\u001b[0m, in \u001b[0;36mdeprecate_nonkeyword_arguments.<locals>.decorate.<locals>.wrapper\u001b[1;34m(*args, **kwargs)\u001b[0m\n\u001b[0;32m    305\u001b[0m \u001b[38;5;28;01mif\u001b[39;00m \u001b[38;5;28mlen\u001b[39m(args) \u001b[38;5;241m>\u001b[39m num_allow_args:\n\u001b[0;32m    306\u001b[0m     warnings\u001b[38;5;241m.\u001b[39mwarn(\n\u001b[0;32m    307\u001b[0m         msg\u001b[38;5;241m.\u001b[39mformat(arguments\u001b[38;5;241m=\u001b[39marguments),\n\u001b[0;32m    308\u001b[0m         \u001b[38;5;167;01mFutureWarning\u001b[39;00m,\n\u001b[0;32m    309\u001b[0m         stacklevel\u001b[38;5;241m=\u001b[39mstacklevel,\n\u001b[0;32m    310\u001b[0m     )\n\u001b[1;32m--> 311\u001b[0m \u001b[38;5;28;01mreturn\u001b[39;00m func(\u001b[38;5;241m*\u001b[39margs, \u001b[38;5;241m*\u001b[39m\u001b[38;5;241m*\u001b[39mkwargs)\n",
      "File \u001b[1;32m~\\AppData\\Roaming\\Python\\Python39\\site-packages\\pandas\\io\\parsers\\readers.py:680\u001b[0m, in \u001b[0;36mread_csv\u001b[1;34m(filepath_or_buffer, sep, delimiter, header, names, index_col, usecols, squeeze, prefix, mangle_dupe_cols, dtype, engine, converters, true_values, false_values, skipinitialspace, skiprows, skipfooter, nrows, na_values, keep_default_na, na_filter, verbose, skip_blank_lines, parse_dates, infer_datetime_format, keep_date_col, date_parser, dayfirst, cache_dates, iterator, chunksize, compression, thousands, decimal, lineterminator, quotechar, quoting, doublequote, escapechar, comment, encoding, encoding_errors, dialect, error_bad_lines, warn_bad_lines, on_bad_lines, delim_whitespace, low_memory, memory_map, float_precision, storage_options)\u001b[0m\n\u001b[0;32m    665\u001b[0m kwds_defaults \u001b[38;5;241m=\u001b[39m _refine_defaults_read(\n\u001b[0;32m    666\u001b[0m     dialect,\n\u001b[0;32m    667\u001b[0m     delimiter,\n\u001b[1;32m   (...)\u001b[0m\n\u001b[0;32m    676\u001b[0m     defaults\u001b[38;5;241m=\u001b[39m{\u001b[38;5;124m\"\u001b[39m\u001b[38;5;124mdelimiter\u001b[39m\u001b[38;5;124m\"\u001b[39m: \u001b[38;5;124m\"\u001b[39m\u001b[38;5;124m,\u001b[39m\u001b[38;5;124m\"\u001b[39m},\n\u001b[0;32m    677\u001b[0m )\n\u001b[0;32m    678\u001b[0m kwds\u001b[38;5;241m.\u001b[39mupdate(kwds_defaults)\n\u001b[1;32m--> 680\u001b[0m \u001b[38;5;28;01mreturn\u001b[39;00m \u001b[43m_read\u001b[49m\u001b[43m(\u001b[49m\u001b[43mfilepath_or_buffer\u001b[49m\u001b[43m,\u001b[49m\u001b[43m \u001b[49m\u001b[43mkwds\u001b[49m\u001b[43m)\u001b[49m\n",
      "File \u001b[1;32m~\\AppData\\Roaming\\Python\\Python39\\site-packages\\pandas\\io\\parsers\\readers.py:575\u001b[0m, in \u001b[0;36m_read\u001b[1;34m(filepath_or_buffer, kwds)\u001b[0m\n\u001b[0;32m    572\u001b[0m _validate_names(kwds\u001b[38;5;241m.\u001b[39mget(\u001b[38;5;124m\"\u001b[39m\u001b[38;5;124mnames\u001b[39m\u001b[38;5;124m\"\u001b[39m, \u001b[38;5;28;01mNone\u001b[39;00m))\n\u001b[0;32m    574\u001b[0m \u001b[38;5;66;03m# Create the parser.\u001b[39;00m\n\u001b[1;32m--> 575\u001b[0m parser \u001b[38;5;241m=\u001b[39m TextFileReader(filepath_or_buffer, \u001b[38;5;241m*\u001b[39m\u001b[38;5;241m*\u001b[39mkwds)\n\u001b[0;32m    577\u001b[0m \u001b[38;5;28;01mif\u001b[39;00m chunksize \u001b[38;5;129;01mor\u001b[39;00m iterator:\n\u001b[0;32m    578\u001b[0m     \u001b[38;5;28;01mreturn\u001b[39;00m parser\n",
      "File \u001b[1;32m~\\AppData\\Roaming\\Python\\Python39\\site-packages\\pandas\\io\\parsers\\readers.py:934\u001b[0m, in \u001b[0;36mTextFileReader.__init__\u001b[1;34m(self, f, engine, **kwds)\u001b[0m\n\u001b[0;32m    931\u001b[0m     \u001b[38;5;28mself\u001b[39m\u001b[38;5;241m.\u001b[39moptions[\u001b[38;5;124m\"\u001b[39m\u001b[38;5;124mhas_index_names\u001b[39m\u001b[38;5;124m\"\u001b[39m] \u001b[38;5;241m=\u001b[39m kwds[\u001b[38;5;124m\"\u001b[39m\u001b[38;5;124mhas_index_names\u001b[39m\u001b[38;5;124m\"\u001b[39m]\n\u001b[0;32m    933\u001b[0m \u001b[38;5;28mself\u001b[39m\u001b[38;5;241m.\u001b[39mhandles: IOHandles \u001b[38;5;241m|\u001b[39m \u001b[38;5;28;01mNone\u001b[39;00m \u001b[38;5;241m=\u001b[39m \u001b[38;5;28;01mNone\u001b[39;00m\n\u001b[1;32m--> 934\u001b[0m \u001b[38;5;28mself\u001b[39m\u001b[38;5;241m.\u001b[39m_engine \u001b[38;5;241m=\u001b[39m \u001b[38;5;28;43mself\u001b[39;49m\u001b[38;5;241;43m.\u001b[39;49m\u001b[43m_make_engine\u001b[49m\u001b[43m(\u001b[49m\u001b[43mf\u001b[49m\u001b[43m,\u001b[49m\u001b[43m \u001b[49m\u001b[38;5;28;43mself\u001b[39;49m\u001b[38;5;241;43m.\u001b[39;49m\u001b[43mengine\u001b[49m\u001b[43m)\u001b[49m\n",
      "File \u001b[1;32m~\\AppData\\Roaming\\Python\\Python39\\site-packages\\pandas\\io\\parsers\\readers.py:1218\u001b[0m, in \u001b[0;36mTextFileReader._make_engine\u001b[1;34m(self, f, engine)\u001b[0m\n\u001b[0;32m   1214\u001b[0m     mode \u001b[38;5;241m=\u001b[39m \u001b[38;5;124m\"\u001b[39m\u001b[38;5;124mrb\u001b[39m\u001b[38;5;124m\"\u001b[39m\n\u001b[0;32m   1215\u001b[0m \u001b[38;5;66;03m# error: No overload variant of \"get_handle\" matches argument types\u001b[39;00m\n\u001b[0;32m   1216\u001b[0m \u001b[38;5;66;03m# \"Union[str, PathLike[str], ReadCsvBuffer[bytes], ReadCsvBuffer[str]]\"\u001b[39;00m\n\u001b[0;32m   1217\u001b[0m \u001b[38;5;66;03m# , \"str\", \"bool\", \"Any\", \"Any\", \"Any\", \"Any\", \"Any\"\u001b[39;00m\n\u001b[1;32m-> 1218\u001b[0m \u001b[38;5;28mself\u001b[39m\u001b[38;5;241m.\u001b[39mhandles \u001b[38;5;241m=\u001b[39m \u001b[43mget_handle\u001b[49m\u001b[43m(\u001b[49m\u001b[43m  \u001b[49m\u001b[38;5;66;43;03m# type: ignore[call-overload]\u001b[39;49;00m\n\u001b[0;32m   1219\u001b[0m \u001b[43m    \u001b[49m\u001b[43mf\u001b[49m\u001b[43m,\u001b[49m\n\u001b[0;32m   1220\u001b[0m \u001b[43m    \u001b[49m\u001b[43mmode\u001b[49m\u001b[43m,\u001b[49m\n\u001b[0;32m   1221\u001b[0m \u001b[43m    \u001b[49m\u001b[43mencoding\u001b[49m\u001b[38;5;241;43m=\u001b[39;49m\u001b[38;5;28;43mself\u001b[39;49m\u001b[38;5;241;43m.\u001b[39;49m\u001b[43moptions\u001b[49m\u001b[38;5;241;43m.\u001b[39;49m\u001b[43mget\u001b[49m\u001b[43m(\u001b[49m\u001b[38;5;124;43m\"\u001b[39;49m\u001b[38;5;124;43mencoding\u001b[39;49m\u001b[38;5;124;43m\"\u001b[39;49m\u001b[43m,\u001b[49m\u001b[43m \u001b[49m\u001b[38;5;28;43;01mNone\u001b[39;49;00m\u001b[43m)\u001b[49m\u001b[43m,\u001b[49m\n\u001b[0;32m   1222\u001b[0m \u001b[43m    \u001b[49m\u001b[43mcompression\u001b[49m\u001b[38;5;241;43m=\u001b[39;49m\u001b[38;5;28;43mself\u001b[39;49m\u001b[38;5;241;43m.\u001b[39;49m\u001b[43moptions\u001b[49m\u001b[38;5;241;43m.\u001b[39;49m\u001b[43mget\u001b[49m\u001b[43m(\u001b[49m\u001b[38;5;124;43m\"\u001b[39;49m\u001b[38;5;124;43mcompression\u001b[39;49m\u001b[38;5;124;43m\"\u001b[39;49m\u001b[43m,\u001b[49m\u001b[43m \u001b[49m\u001b[38;5;28;43;01mNone\u001b[39;49;00m\u001b[43m)\u001b[49m\u001b[43m,\u001b[49m\n\u001b[0;32m   1223\u001b[0m \u001b[43m    \u001b[49m\u001b[43mmemory_map\u001b[49m\u001b[38;5;241;43m=\u001b[39;49m\u001b[38;5;28;43mself\u001b[39;49m\u001b[38;5;241;43m.\u001b[39;49m\u001b[43moptions\u001b[49m\u001b[38;5;241;43m.\u001b[39;49m\u001b[43mget\u001b[49m\u001b[43m(\u001b[49m\u001b[38;5;124;43m\"\u001b[39;49m\u001b[38;5;124;43mmemory_map\u001b[39;49m\u001b[38;5;124;43m\"\u001b[39;49m\u001b[43m,\u001b[49m\u001b[43m \u001b[49m\u001b[38;5;28;43;01mFalse\u001b[39;49;00m\u001b[43m)\u001b[49m\u001b[43m,\u001b[49m\n\u001b[0;32m   1224\u001b[0m \u001b[43m    \u001b[49m\u001b[43mis_text\u001b[49m\u001b[38;5;241;43m=\u001b[39;49m\u001b[43mis_text\u001b[49m\u001b[43m,\u001b[49m\n\u001b[0;32m   1225\u001b[0m \u001b[43m    \u001b[49m\u001b[43merrors\u001b[49m\u001b[38;5;241;43m=\u001b[39;49m\u001b[38;5;28;43mself\u001b[39;49m\u001b[38;5;241;43m.\u001b[39;49m\u001b[43moptions\u001b[49m\u001b[38;5;241;43m.\u001b[39;49m\u001b[43mget\u001b[49m\u001b[43m(\u001b[49m\u001b[38;5;124;43m\"\u001b[39;49m\u001b[38;5;124;43mencoding_errors\u001b[39;49m\u001b[38;5;124;43m\"\u001b[39;49m\u001b[43m,\u001b[49m\u001b[43m \u001b[49m\u001b[38;5;124;43m\"\u001b[39;49m\u001b[38;5;124;43mstrict\u001b[39;49m\u001b[38;5;124;43m\"\u001b[39;49m\u001b[43m)\u001b[49m\u001b[43m,\u001b[49m\n\u001b[0;32m   1226\u001b[0m \u001b[43m    \u001b[49m\u001b[43mstorage_options\u001b[49m\u001b[38;5;241;43m=\u001b[39;49m\u001b[38;5;28;43mself\u001b[39;49m\u001b[38;5;241;43m.\u001b[39;49m\u001b[43moptions\u001b[49m\u001b[38;5;241;43m.\u001b[39;49m\u001b[43mget\u001b[49m\u001b[43m(\u001b[49m\u001b[38;5;124;43m\"\u001b[39;49m\u001b[38;5;124;43mstorage_options\u001b[39;49m\u001b[38;5;124;43m\"\u001b[39;49m\u001b[43m,\u001b[49m\u001b[43m \u001b[49m\u001b[38;5;28;43;01mNone\u001b[39;49;00m\u001b[43m)\u001b[49m\u001b[43m,\u001b[49m\n\u001b[0;32m   1227\u001b[0m \u001b[43m\u001b[49m\u001b[43m)\u001b[49m\n\u001b[0;32m   1228\u001b[0m \u001b[38;5;28;01massert\u001b[39;00m \u001b[38;5;28mself\u001b[39m\u001b[38;5;241m.\u001b[39mhandles \u001b[38;5;129;01mis\u001b[39;00m \u001b[38;5;129;01mnot\u001b[39;00m \u001b[38;5;28;01mNone\u001b[39;00m\n\u001b[0;32m   1229\u001b[0m f \u001b[38;5;241m=\u001b[39m \u001b[38;5;28mself\u001b[39m\u001b[38;5;241m.\u001b[39mhandles\u001b[38;5;241m.\u001b[39mhandle\n",
      "File \u001b[1;32m~\\AppData\\Roaming\\Python\\Python39\\site-packages\\pandas\\io\\common.py:786\u001b[0m, in \u001b[0;36mget_handle\u001b[1;34m(path_or_buf, mode, encoding, compression, memory_map, is_text, errors, storage_options)\u001b[0m\n\u001b[0;32m    781\u001b[0m \u001b[38;5;28;01melif\u001b[39;00m \u001b[38;5;28misinstance\u001b[39m(handle, \u001b[38;5;28mstr\u001b[39m):\n\u001b[0;32m    782\u001b[0m     \u001b[38;5;66;03m# Check whether the filename is to be opened in binary mode.\u001b[39;00m\n\u001b[0;32m    783\u001b[0m     \u001b[38;5;66;03m# Binary mode does not support 'encoding' and 'newline'.\u001b[39;00m\n\u001b[0;32m    784\u001b[0m     \u001b[38;5;28;01mif\u001b[39;00m ioargs\u001b[38;5;241m.\u001b[39mencoding \u001b[38;5;129;01mand\u001b[39;00m \u001b[38;5;124m\"\u001b[39m\u001b[38;5;124mb\u001b[39m\u001b[38;5;124m\"\u001b[39m \u001b[38;5;129;01mnot\u001b[39;00m \u001b[38;5;129;01min\u001b[39;00m ioargs\u001b[38;5;241m.\u001b[39mmode:\n\u001b[0;32m    785\u001b[0m         \u001b[38;5;66;03m# Encoding\u001b[39;00m\n\u001b[1;32m--> 786\u001b[0m         handle \u001b[38;5;241m=\u001b[39m \u001b[38;5;28;43mopen\u001b[39;49m\u001b[43m(\u001b[49m\n\u001b[0;32m    787\u001b[0m \u001b[43m            \u001b[49m\u001b[43mhandle\u001b[49m\u001b[43m,\u001b[49m\n\u001b[0;32m    788\u001b[0m \u001b[43m            \u001b[49m\u001b[43mioargs\u001b[49m\u001b[38;5;241;43m.\u001b[39;49m\u001b[43mmode\u001b[49m\u001b[43m,\u001b[49m\n\u001b[0;32m    789\u001b[0m \u001b[43m            \u001b[49m\u001b[43mencoding\u001b[49m\u001b[38;5;241;43m=\u001b[39;49m\u001b[43mioargs\u001b[49m\u001b[38;5;241;43m.\u001b[39;49m\u001b[43mencoding\u001b[49m\u001b[43m,\u001b[49m\n\u001b[0;32m    790\u001b[0m \u001b[43m            \u001b[49m\u001b[43merrors\u001b[49m\u001b[38;5;241;43m=\u001b[39;49m\u001b[43merrors\u001b[49m\u001b[43m,\u001b[49m\n\u001b[0;32m    791\u001b[0m \u001b[43m            \u001b[49m\u001b[43mnewline\u001b[49m\u001b[38;5;241;43m=\u001b[39;49m\u001b[38;5;124;43m\"\u001b[39;49m\u001b[38;5;124;43m\"\u001b[39;49m\u001b[43m,\u001b[49m\n\u001b[0;32m    792\u001b[0m \u001b[43m        \u001b[49m\u001b[43m)\u001b[49m\n\u001b[0;32m    793\u001b[0m     \u001b[38;5;28;01melse\u001b[39;00m:\n\u001b[0;32m    794\u001b[0m         \u001b[38;5;66;03m# Binary mode\u001b[39;00m\n\u001b[0;32m    795\u001b[0m         handle \u001b[38;5;241m=\u001b[39m \u001b[38;5;28mopen\u001b[39m(handle, ioargs\u001b[38;5;241m.\u001b[39mmode)\n",
      "\u001b[1;31mFileNotFoundError\u001b[0m: [Errno 2] No such file or directory: 'C:/Users/User/Desktop/SCMS_Delivery_History_Dataset.csv'"
     ]
    }
   ],
   "source": [
    "data=pd.read_csv('C:/Users/User/Desktop/SCMS_Delivery_History_Dataset.csv')\n",
    "column_details=pd.read_csv('C:/Users/User/Downloads/SCMS_Delivery_History_Dataset_Data_Dictionary_20150929 (2) (1).csv')"
   ]
  },
  {
   "cell_type": "code",
   "execution_count": null,
   "metadata": {},
   "outputs": [],
   "source": [
    "data['Country']==\"india\""
   ]
  },
  {
   "cell_type": "code",
   "execution_count": null,
   "metadata": {
    "colab": {
     "base_uri": "https://localhost:8080/",
     "height": 473
    },
    "id": "24bobbirEvjF",
    "outputId": "769ba0dd-3f01-493a-ca7f-21e0c98b1e56"
   },
   "outputs": [],
   "source": [
    "data.head()"
   ]
  },
  {
   "cell_type": "code",
   "execution_count": null,
   "metadata": {
    "colab": {
     "base_uri": "https://localhost:8080/",
     "height": 423
    },
    "id": "VN8JCnDwPIPq",
    "outputId": "7005f696-851c-49f1-88ba-0014d9ac3cec"
   },
   "outputs": [],
   "source": [
    "column_details"
   ]
  },
  {
   "cell_type": "code",
   "execution_count": null,
   "metadata": {
    "colab": {
     "base_uri": "https://localhost:8080/"
    },
    "id": "589z6NtLPOY3",
    "outputId": "bb16b94c-ad9f-45c7-ab65-e05267d01b05"
   },
   "outputs": [],
   "source": [
    "data.shape"
   ]
  },
  {
   "cell_type": "code",
   "execution_count": null,
   "metadata": {
    "colab": {
     "base_uri": "https://localhost:8080/"
    },
    "id": "Tt1-OKJWPgkD",
    "outputId": "079aa2d7-35fb-4eb5-f533-dad0f8b9653d"
   },
   "outputs": [],
   "source": [
    "data.info()"
   ]
  },
  {
   "cell_type": "code",
   "execution_count": null,
   "metadata": {
    "colab": {
     "base_uri": "https://localhost:8080/"
    },
    "id": "sgMGly-MWeMw",
    "outputId": "16c2907f-81fe-47a8-9240-9375927cb553"
   },
   "outputs": [],
   "source": [
    "data.isnull().sum()"
   ]
  },
  {
   "cell_type": "markdown",
   "metadata": {
    "id": "AXyC3Nx9cyg0"
   },
   "source": [
    "Converting Freight Cost and weight into Float data type and we may loos some of the data rows having obeject data dypes"
   ]
  },
  {
   "cell_type": "code",
   "execution_count": null,
   "metadata": {
    "colab": {
     "base_uri": "https://localhost:8080/"
    },
    "id": "5S6CSAFX0hhL",
    "outputId": "511f97bd-94a0-4406-d8af-2b6437be112b"
   },
   "outputs": [],
   "source": [
    "# replacing reffered cost and weight of 'Freight Cost (USD)' and 'Weight (Kilograms)' to actual value\n",
    "\n",
    "total_rows = data.shape[0]\n",
    "for index in range(total_rows):\n",
    "    cost = data.loc[index]['Freight Cost (USD)']\n",
    "    if 'See' in cost:\n",
    "        id = cost.split(':')[1].split(')')[0]\n",
    "        id = int(id)   \n",
    "        \n",
    "        actual_cost_of_id =  data[data['ID']==id]['Freight Cost (USD)'].values[0]\n",
    "        data['Freight Cost (USD)'].loc[index] = actual_cost_of_id # have to use loc after column slection else replace will not work\n",
    "    \n",
    "    \n",
    "    weight = data.loc[index]['Weight (Kilograms)']\n",
    "    if 'See' in weight:\n",
    "        id = weight.split(':')[1].split(')')[0]\n",
    "        id = int(id)   \n",
    "\n",
    "        actual_weight_of_id =  data[data['ID']==id]['Weight (Kilograms)'].values[0]\n",
    "        data['Weight (Kilograms)'].loc[index] = actual_weight_of_id # have to use loc aftr column slection else replace will not work"
   ]
  },
  {
   "cell_type": "code",
   "execution_count": null,
   "metadata": {
    "colab": {
     "base_uri": "https://localhost:8080/"
    },
    "id": "d4bNJIISLcGc",
    "outputId": "808e6643-5a31-4664-83b3-a67ee0e88873"
   },
   "outputs": [],
   "source": [
    "data['Weight (Kilograms)'].value_counts()"
   ]
  },
  {
   "cell_type": "code",
   "execution_count": null,
   "metadata": {
    "colab": {
     "base_uri": "https://localhost:8080/",
     "height": 542
    },
    "id": "0-k_vgZv-tdq",
    "outputId": "4bee2ec5-6207-473b-c0a1-5d928e0e39a9"
   },
   "outputs": [],
   "source": [
    "data.sample(5)"
   ]
  },
  {
   "cell_type": "code",
   "execution_count": null,
   "metadata": {
    "id": "tCEaKcYBLcAJ"
   },
   "outputs": [],
   "source": [
    "data['weight_numeric']=pd.to_numeric(data['Weight (Kilograms)'],errors='coerce',downcast='integer')"
   ]
  },
  {
   "cell_type": "code",
   "execution_count": null,
   "metadata": {
    "id": "6fTh6S8QLb68"
   },
   "outputs": [],
   "source": [
    "data['weight_catagoric']=np.where(data['weight_numeric'].isnull(),data['weight_numeric'],np.nan)"
   ]
  },
  {
   "cell_type": "code",
   "execution_count": null,
   "metadata": {
    "id": "bmYkkcHWPk5v"
   },
   "outputs": [],
   "source": [
    "data['Freight']=pd.to_numeric(data['Freight Cost (USD)'],errors='coerce',downcast='integer')"
   ]
  },
  {
   "cell_type": "code",
   "execution_count": null,
   "metadata": {
    "id": "Ny6S5FUoPku-"
   },
   "outputs": [],
   "source": [
    "data['Freight_catagoric']=np.where(data['Freight'].isnull(),data['Freight'],np.nan)"
   ]
  },
  {
   "cell_type": "code",
   "execution_count": null,
   "metadata": {
    "colab": {
     "base_uri": "https://localhost:8080/"
    },
    "id": "7qOSCOMTLb1t",
    "outputId": "48002e11-39df-4bba-9c41-b37b2271bec2"
   },
   "outputs": [],
   "source": [
    "data.columns"
   ]
  },
  {
   "cell_type": "code",
   "execution_count": null,
   "metadata": {
    "id": "W7DErC2IpE4G"
   },
   "outputs": [],
   "source": [
    "data.drop(['ID', 'Project Code', 'PQ #', 'PO / SO #', 'ASN/DN #','PQ First Sent to Client Date','PO Sent to Vendor Date','Weight (Kilograms)','Freight Cost (USD)','weight_catagoric','Freight_catagoric'],axis=1,inplace=True)"
   ]
  },
  {
   "cell_type": "code",
   "execution_count": null,
   "metadata": {
    "id": "oEHhxbOBVI1W"
   },
   "outputs": [],
   "source": [
    "data.rename(columns={'weight_numeric': 'Weight (Kilograms)', 'Freight': 'Freight Cost (USD)'}, inplace=True)"
   ]
  },
  {
   "cell_type": "code",
   "execution_count": null,
   "metadata": {
    "colab": {
     "base_uri": "https://localhost:8080/"
    },
    "id": "ncCLq5y5gMEl",
    "outputId": "512a84fb-78da-4b03-a0b8-b55eb38c16b6"
   },
   "outputs": [],
   "source": [
    "data.info()"
   ]
  },
  {
   "cell_type": "code",
   "execution_count": null,
   "metadata": {
    "colab": {
     "base_uri": "https://localhost:8080/"
    },
    "id": "0oHoSci7V6ZB",
    "outputId": "d29f2947-0246-4c84-e021-9ab93fd47d83"
   },
   "outputs": [],
   "source": [
    "data.shape"
   ]
  },
  {
   "cell_type": "markdown",
   "metadata": {
    "id": "Z6dj8wXGb-0-"
   },
   "source": [
    "Scheduled Delivery Date ,  Delivered to Client Date ,  Delivery Recorded Date columns are in object data type  covenrting theese into datetime type"
   ]
  },
  {
   "cell_type": "code",
   "execution_count": null,
   "metadata": {
    "id": "rTCHRxNeSg2W"
   },
   "outputs": [],
   "source": [
    "data['Scheduled Delivery Date'] =pd.to_datetime(data['Scheduled Delivery Date'])"
   ]
  },
  {
   "cell_type": "code",
   "execution_count": null,
   "metadata": {
    "id": "bLMGYh-rdA47"
   },
   "outputs": [],
   "source": [
    "data['Delivered to Client Date'] =pd.to_datetime(data['Delivered to Client Date'])"
   ]
  },
  {
   "cell_type": "code",
   "execution_count": null,
   "metadata": {
    "id": "IZ0Ns-jadH-y"
   },
   "outputs": [],
   "source": [
    "data['Delivery Recorded Date'] =pd.to_datetime(data['Delivery Recorded Date'])"
   ]
  },
  {
   "cell_type": "code",
   "execution_count": null,
   "metadata": {
    "id": "IZxfICw277Xg"
   },
   "outputs": [],
   "source": [
    "#data[\"delivery_ delay\"]=data['Scheduled Delivery Date']-data['Delivery Recorded Date']"
   ]
  },
  {
   "cell_type": "code",
   "execution_count": null,
   "metadata": {
    "colab": {
     "base_uri": "https://localhost:8080/"
    },
    "id": "X8Rp31Aq_Lql",
    "outputId": "bb91ef24-e668-48bc-d4d4-bdaf297ab714"
   },
   "outputs": [],
   "source": [
    "data.info()"
   ]
  },
  {
   "cell_type": "markdown",
   "metadata": {
    "id": "WCNklZCRd8-t"
   },
   "source": [
    "checxking for null values"
   ]
  },
  {
   "cell_type": "code",
   "execution_count": null,
   "metadata": {
    "colab": {
     "base_uri": "https://localhost:8080/"
    },
    "id": "2nGE6s7FeBHQ",
    "outputId": "f3b4a733-3b69-4b22-f3cd-8daaac23684c"
   },
   "outputs": [],
   "source": [
    "data.isnull().sum()"
   ]
  },
  {
   "cell_type": "code",
   "execution_count": null,
   "metadata": {
    "colab": {
     "base_uri": "https://localhost:8080/",
     "height": 396
    },
    "id": "c7kP7lVGW7i5",
    "outputId": "5600f7c7-9e46-4573-95bd-dce4ef9797ec"
   },
   "outputs": [],
   "source": [
    "data.describe()"
   ]
  },
  {
   "cell_type": "markdown",
   "metadata": {
    "id": "3yo5BpVK6ryN"
   },
   "source": [
    "Ploting Displot and Boxplot for each numarical columns to check distribution and Outliers"
   ]
  },
  {
   "cell_type": "code",
   "execution_count": null,
   "metadata": {
    "colab": {
     "base_uri": "https://localhost:8080/",
     "height": 572
    },
    "id": "9OoMsTO8zOj8",
    "outputId": "abec70c7-2558-4e7b-c516-fa1be9d43d65"
   },
   "outputs": [],
   "source": [
    "\n",
    "sns.distplot(data['Unit of Measure (Per Pack)'])"
   ]
  },
  {
   "cell_type": "code",
   "execution_count": null,
   "metadata": {
    "colab": {
     "base_uri": "https://localhost:8080/",
     "height": 572
    },
    "id": "_IhyqTsi49Hc",
    "outputId": "79aafd70-f64a-4837-e0a5-6cb3abdc3585"
   },
   "outputs": [],
   "source": [
    "plt.figure(figsize=(12,8))\n",
    "sns.boxplot(data['Unit of Measure (Per Pack)'])"
   ]
  },
  {
   "cell_type": "code",
   "execution_count": null,
   "metadata": {
    "colab": {
     "base_uri": "https://localhost:8080/",
     "height": 583
    },
    "id": "3h-uIrbBwCRs",
    "outputId": "c57f5aad-5fec-47fb-bc10-047bcb6d22c3"
   },
   "outputs": [],
   "source": [
    "plt.figure(figsize=(12,8))\n",
    "sns.distplot(data['Line Item Quantity'])"
   ]
  },
  {
   "cell_type": "code",
   "execution_count": null,
   "metadata": {
    "colab": {
     "base_uri": "https://localhost:8080/",
     "height": 572
    },
    "id": "R4E6xWfl5KMv",
    "outputId": "c39df351-4c57-4a3d-9a37-0df62557ebbc"
   },
   "outputs": [],
   "source": [
    "plt.figure(figsize=(12,8))\n",
    "sns.boxplot(data['Line Item Quantity'])"
   ]
  },
  {
   "cell_type": "code",
   "execution_count": null,
   "metadata": {
    "colab": {
     "base_uri": "https://localhost:8080/",
     "height": 583
    },
    "id": "xBKy8P8Jzrfr",
    "outputId": "824f9021-1ef5-478a-f3ec-e8f1a8828960"
   },
   "outputs": [],
   "source": [
    "plt.figure(figsize=(12,8))\n",
    "sns.distplot(data['Line Item Value'])"
   ]
  },
  {
   "cell_type": "code",
   "execution_count": null,
   "metadata": {
    "colab": {
     "base_uri": "https://localhost:8080/",
     "height": 572
    },
    "id": "LT9KpM9p5Wo0",
    "outputId": "f1e0654a-b267-4e10-fac2-e1e64f47375d"
   },
   "outputs": [],
   "source": [
    "plt.figure(figsize=(12,8))\n",
    "sns.boxplot(data['Line Item Value'])"
   ]
  },
  {
   "cell_type": "code",
   "execution_count": null,
   "metadata": {
    "colab": {
     "base_uri": "https://localhost:8080/",
     "height": 405
    },
    "id": "yuAvJQvt0CE8",
    "outputId": "70555035-4c35-4f4c-9400-6a217fef6644"
   },
   "outputs": [],
   "source": [
    "plt.figure(figsize=(12,8))\n",
    "sns.displot(data['Pack Price'])"
   ]
  },
  {
   "cell_type": "code",
   "execution_count": null,
   "metadata": {
    "colab": {
     "base_uri": "https://localhost:8080/",
     "height": 572
    },
    "id": "2OJjAsRO5dnR",
    "outputId": "bbd44dc3-9a97-46bf-86ba-0d8a03062037"
   },
   "outputs": [],
   "source": [
    "plt.figure(figsize=(12,8))\n",
    "\n",
    "sns.boxplot(data['Pack Price'])"
   ]
  },
  {
   "cell_type": "code",
   "execution_count": null,
   "metadata": {
    "colab": {
     "base_uri": "https://localhost:8080/",
     "height": 405
    },
    "id": "SCBnrfP20PTo",
    "outputId": "e2a6c571-b88b-45a8-f303-9d2537ba8734"
   },
   "outputs": [],
   "source": [
    "plt.figure(figsize=(12,8))\n",
    "sns.displot(data['Unit Price'])"
   ]
  },
  {
   "cell_type": "code",
   "execution_count": null,
   "metadata": {
    "colab": {
     "base_uri": "https://localhost:8080/",
     "height": 572
    },
    "id": "DGubqYnK52bS",
    "outputId": "90b36cb8-5dee-4134-b570-900eebbcbd89"
   },
   "outputs": [],
   "source": [
    "plt.figure(figsize=(12,8))\n",
    "sns.boxplot(data['Unit Price'])"
   ]
  },
  {
   "cell_type": "code",
   "execution_count": null,
   "metadata": {
    "colab": {
     "base_uri": "https://localhost:8080/",
     "height": 405
    },
    "id": "4TaQ351T0qiA",
    "outputId": "d38f4b28-3243-48ec-d2ea-f5cf6d4cd520"
   },
   "outputs": [],
   "source": [
    "plt.figure(figsize=(12,8))\n",
    "sns.displot(data['Line Item Insurance (USD)'])"
   ]
  },
  {
   "cell_type": "code",
   "execution_count": null,
   "metadata": {
    "colab": {
     "base_uri": "https://localhost:8080/",
     "height": 572
    },
    "id": "_-gR8MKT6C7T",
    "outputId": "76b018f6-c9da-46e1-a7c0-ea3442222c8d"
   },
   "outputs": [],
   "source": [
    "plt.figure(figsize=(12,8))\n",
    "sns.boxplot(data['Line Item Insurance (USD)'])"
   ]
  },
  {
   "cell_type": "markdown",
   "metadata": {
    "id": "T2OY6JhP8nMa"
   },
   "source": [
    "all numarical columns seems not distibuted well and have Outliers "
   ]
  },
  {
   "cell_type": "code",
   "execution_count": null,
   "metadata": {
    "colab": {
     "base_uri": "https://localhost:8080/",
     "height": 1000
    },
    "id": "cG0FP3xPYQOC",
    "outputId": "dd408a35-ac92-4be0-e54a-c5ed9da7edc9"
   },
   "outputs": [],
   "source": [
    "sns.pairplot(data)"
   ]
  },
  {
   "cell_type": "markdown",
   "metadata": {
    "id": "pDscmELz7laZ"
   },
   "source": [
    "pairplot clearly show that the data is numerical coiumns are mosttly no-linear to eache Other"
   ]
  },
  {
   "cell_type": "code",
   "execution_count": null,
   "metadata": {
    "colab": {
     "base_uri": "https://localhost:8080/",
     "height": 455
    },
    "id": "TYzd7trioylQ",
    "outputId": "a34abf13-6290-4ec9-dec4-3708978cdd38"
   },
   "outputs": [],
   "source": [
    "data.head()"
   ]
  },
  {
   "cell_type": "markdown",
   "metadata": {
    "id": "vgmdVsrPfh_t"
   },
   "source": [
    "droping columns ID', 'Project Code, PQ #, PO / SO #, ASN/DN #  since these columns are not required for my analasys"
   ]
  },
  {
   "cell_type": "code",
   "execution_count": null,
   "metadata": {
    "id": "poTfWKkEgPXR"
   },
   "outputs": [],
   "source": [
    "pd.set_option('display.max_columns',40)"
   ]
  },
  {
   "cell_type": "code",
   "execution_count": null,
   "metadata": {
    "colab": {
     "base_uri": "https://localhost:8080/",
     "height": 367
    },
    "id": "fORbi72_gU-n",
    "outputId": "4c660b2e-a8a5-485f-d615-745aa079c012"
   },
   "outputs": [],
   "source": [
    "data.head(2)"
   ]
  },
  {
   "cell_type": "code",
   "execution_count": null,
   "metadata": {
    "colab": {
     "base_uri": "https://localhost:8080/",
     "height": 237
    },
    "id": "aOCNf_lSgU60",
    "outputId": "ff1a9890-e691-4fa6-d113-e1e3b2e54708"
   },
   "outputs": [],
   "source": [
    "column_details.head(6)"
   ]
  },
  {
   "cell_type": "markdown",
   "metadata": {
    "id": "QhxNkYpsFM5x"
   },
   "source": [
    "Checking variable country and Visualising\n"
   ]
  },
  {
   "cell_type": "code",
   "execution_count": null,
   "metadata": {
    "colab": {
     "base_uri": "https://localhost:8080/"
    },
    "id": "ciadQ8CqgU10",
    "outputId": "90c5142e-650c-4d44-bdab-dd82cf8437ea"
   },
   "outputs": [],
   "source": [
    "data['Country'].unique()"
   ]
  },
  {
   "cell_type": "code",
   "execution_count": null,
   "metadata": {
    "colab": {
     "base_uri": "https://localhost:8080/"
    },
    "id": "s5QM1v4LgUy2",
    "outputId": "ee579620-ce98-4674-e297-dbf0533a024d"
   },
   "outputs": [],
   "source": [
    "# checking value counts for each country\n",
    "data['Country'].value_counts()"
   ]
  },
  {
   "cell_type": "code",
   "execution_count": null,
   "metadata": {
    "id": "T1x8PkvKL1y6"
   },
   "outputs": [],
   "source": [
    "topp_10_countries=data['Country'].value_counts()[:10].reset_index()"
   ]
  },
  {
   "cell_type": "markdown",
   "metadata": {
    "id": "Mc3rwzUuHZqT"
   },
   "source": [
    "ploting top 10 countries\n"
   ]
  },
  {
   "cell_type": "code",
   "execution_count": null,
   "metadata": {
    "colab": {
     "base_uri": "https://localhost:8080/"
    },
    "id": "uIzFXZnmJZS8",
    "outputId": "36b5fcf0-dc8a-466d-e208-7c4bc4fa1d02"
   },
   "outputs": [],
   "source": [
    "data['Country'].value_counts()[:10].index"
   ]
  },
  {
   "cell_type": "code",
   "execution_count": null,
   "metadata": {
    "colab": {
     "base_uri": "https://localhost:8080/",
     "height": 337
    },
    "id": "zJrYk4DSgUwU",
    "outputId": "522f0943-606e-40b0-a134-1ae32958cecd"
   },
   "outputs": [],
   "source": [
    "\n",
    "data['Country'].value_counts()[:10].plot(kind=\"bar\",)"
   ]
  },
  {
   "cell_type": "markdown",
   "metadata": {
    "id": "JTDQyfulUAYW"
   },
   "source": [
    "checking Top 10 Countries relation with frirght cost"
   ]
  },
  {
   "cell_type": "code",
   "execution_count": null,
   "metadata": {
    "colab": {
     "base_uri": "https://localhost:8080/",
     "height": 426
    },
    "id": "Fw4YNp7IRhus",
    "outputId": "47737bfd-450f-43ab-c869-7df5ab54a10d"
   },
   "outputs": [],
   "source": [
    "sns.scatterplot(data['Country'],data['Freight Cost (USD)'],hue=data['Managed By'])\n",
    "plt.xticks( rotation='vertical')\n",
    "plt.show()"
   ]
  },
  {
   "cell_type": "markdown",
   "metadata": {
    "id": "s66XlXmFtNy-"
   },
   "source": [
    "Since Most oof countres are Managed by PMO-US  Iam assuming it is a us based company"
   ]
  },
  {
   "cell_type": "code",
   "execution_count": null,
   "metadata": {
    "colab": {
     "base_uri": "https://localhost:8080/",
     "height": 426
    },
    "id": "SwJyxNqaYWA7",
    "outputId": "edc0a8b2-277c-4b35-adaf-26983932b126"
   },
   "outputs": [],
   "source": [
    "sns.scatterplot(data['Country'],data['Freight Cost (USD)'])\n",
    "plt.xticks( rotation='vertical')\n",
    "plt.show()"
   ]
  },
  {
   "cell_type": "code",
   "execution_count": null,
   "metadata": {
    "colab": {
     "base_uri": "https://localhost:8080/",
     "height": 426
    },
    "id": "UUMSC-28sLIB",
    "outputId": "b480afea-318d-430a-e910-a837b400cd5e",
    "scrolled": true
   },
   "outputs": [],
   "source": [
    "sns.scatterplot(data['Country'],data['Freight Cost (USD)'],hue=data['Shipment Mode'])\n",
    "plt.xticks( rotation='vertical')\n",
    "plt.show()"
   ]
  },
  {
   "cell_type": "markdown",
   "metadata": {
    "id": "rVRWPlAVugdn"
   },
   "source": [
    "Most of the countries get their shipmenet by Air And Nigeria got their most shipment by Air Charter ,may be 2 or 3 by air shipment"
   ]
  },
  {
   "cell_type": "code",
   "execution_count": null,
   "metadata": {
    "scrolled": true
   },
   "outputs": [],
   "source": [
    "sns.catplot(data=data, y=\"Freight Cost (USD)\",x=\"Country\",height=5,aspect=6,col='Shipment Mode')\n",
    "plt.xticks( rotation='vertical')\n",
    "plt.show()"
   ]
  },
  {
   "cell_type": "markdown",
   "metadata": {},
   "source": [
    "Haiti freight cost is more in Air shipment ,uganda shipment is more in truck shipmentr,Nogeria freight cost is more in Air charter shipment,Rwanda freight cost is moere in Ocean shipment "
   ]
  },
  {
   "cell_type": "markdown",
   "metadata": {
    "id": "ESMf2755JULB"
   },
   "source": [
    "checking column Managed By and releation with shipment mode\n",
    "\n",
    "\n",
    "\n"
   ]
  },
  {
   "cell_type": "code",
   "execution_count": null,
   "metadata": {
    "colab": {
     "base_uri": "https://localhost:8080/"
    },
    "id": "gDnt_9EHgUkV",
    "outputId": "e6bed67b-7f2e-446b-edb0-be3c16c255b2"
   },
   "outputs": [],
   "source": [
    "data['Managed By'].value_counts()"
   ]
  },
  {
   "cell_type": "code",
   "execution_count": null,
   "metadata": {
    "colab": {
     "base_uri": "https://localhost:8080/",
     "height": 444
    },
    "id": "sA81fH38JLUB",
    "outputId": "53ab02b7-75b6-4abc-cf26-e58c0c0356d3"
   },
   "outputs": [],
   "source": [
    "sns.relplot(data['Shipment Mode'],data['Managed By'],hue=data['Vendor INCO Term'])"
   ]
  },
  {
   "cell_type": "markdown",
   "metadata": {
    "id": "2F6W5gyYLgSl"
   },
   "source": [
    "PMO-US has sent  items through all four shipment mode , Health Field Office used air shipment method"
   ]
  },
  {
   "cell_type": "markdown",
   "metadata": {
    "id": "5KV7ratTNaki"
   },
   "source": [
    "PMO-US sent items only through N/A --From RDC ,Southafrica Africa Field Office and Ethiopia Field Office used DDD as vendos and Health Field Office EXW as vendor"
   ]
  },
  {
   "cell_type": "code",
   "execution_count": null,
   "metadata": {
    "colab": {
     "base_uri": "https://localhost:8080/",
     "height": 769
    },
    "id": "R36X4q9pJKEU",
    "outputId": "f7f67e73-be46-4c66-c0d9-1c52524d8e60"
   },
   "outputs": [],
   "source": [
    "sns.relplot(data['Shipment Mode'],data['Managed By'],hue=data['Country'])"
   ]
  },
  {
   "cell_type": "code",
   "execution_count": null,
   "metadata": {
    "colab": {
     "base_uri": "https://localhost:8080/",
     "height": 570
    },
    "id": "ZfdZgcuRudz6",
    "outputId": "68589d4f-a2c0-46bd-d4ba-9e2152ec7e9f"
   },
   "outputs": [],
   "source": [
    "sns.catplot(x=\"Managed By\", y=\"Freight Cost (USD)\", data=data)\n",
    "plt.xticks( rotation='vertical')"
   ]
  },
  {
   "cell_type": "code",
   "execution_count": null,
   "metadata": {
    "colab": {
     "base_uri": "https://localhost:8080/",
     "height": 356
    },
    "id": "Q_THRQqtgUh0",
    "outputId": "54e5fd9f-d758-4fe7-be1f-42c374512cfa"
   },
   "outputs": [],
   "source": [
    "\n",
    "sns.scatterplot(data['Managed By'],data['Freight Cost (USD)'])"
   ]
  },
  {
   "cell_type": "markdown",
   "metadata": {
    "id": "qY7S9I8k1_Vq"
   },
   "source": [
    "PMO-US  Freight between 0-150000 $ and otliers maximum was nearly 300000$"
   ]
  },
  {
   "cell_type": "code",
   "execution_count": null,
   "metadata": {
    "id": "sOd2tr_kgUfc"
   },
   "outputs": [],
   "source": [
    "\n",
    "#variable  Fulfill Via"
   ]
  },
  {
   "cell_type": "code",
   "execution_count": null,
   "metadata": {
    "colab": {
     "base_uri": "https://localhost:8080/"
    },
    "id": "2KbQu5HmgUcz",
    "outputId": "b12a1461-53e7-43aa-80e4-30a8a7d3f853"
   },
   "outputs": [],
   "source": [
    "data['Fulfill Via'].value_counts()"
   ]
  },
  {
   "cell_type": "markdown",
   "metadata": {
    "id": "mN-koOCxcSrb"
   },
   "source": [
    "RDC meaning DEFINITION. A Regional Distribution Center (RDC) is a collection and consolidation center for finished goods, components and spare parts produced by its own group of companies for its own brand to be distributed to dealers, importers or its subsidiaries or other unrelated companies within or outside the country."
   ]
  },
  {
   "cell_type": "code",
   "execution_count": null,
   "metadata": {
    "colab": {
     "base_uri": "https://localhost:8080/",
     "height": 387
    },
    "id": "4RWDlk52Jo1z",
    "outputId": "268782e2-df62-41e8-dd50-45a06d73d23d"
   },
   "outputs": [],
   "source": [
    "sns.catplot(x='Fulfill Via',y='Managed By',data=data)"
   ]
  },
  {
   "cell_type": "markdown",
   "metadata": {
    "id": "7Cxh90C1KSfl"
   },
   "source": [
    "PMO-US has used both Direct drop and RDC and remaing used only Dricet drop "
   ]
  },
  {
   "cell_type": "code",
   "execution_count": null,
   "metadata": {
    "colab": {
     "base_uri": "https://localhost:8080/",
     "height": 387
    },
    "id": "Y4pBIu5EJkny",
    "outputId": "5c28e33e-493f-48e9-e296-eaf15515e0ae"
   },
   "outputs": [],
   "source": [
    "sns.catplot(x='Fulfill Via',y='Managed By',hue='Shipment Mode',data=data)"
   ]
  },
  {
   "cell_type": "markdown",
   "metadata": {
    "id": "zpPFD2GiVRuy"
   },
   "source": [
    "PMO-US has used Air and Truck shipment modes in both Direct Drop and From RDC,Oceam Shipment mode incase of Director Drop where Hailti Office  used Only Air Shipment Mode in Diorect Drop "
   ]
  },
  {
   "cell_type": "code",
   "execution_count": null,
   "metadata": {
    "colab": {
     "base_uri": "https://localhost:8080/",
     "height": 387
    },
    "id": "VGmsZy6wQoT4",
    "outputId": "6d74f557-e79b-4d39-a752-bbb8108f2479"
   },
   "outputs": [],
   "source": [
    "sns.catplot(x='Fulfill Via',y='First Line Designation',hue='Managed By',data=data)"
   ]
  },
  {
   "cell_type": "markdown",
   "metadata": {
    "id": "g30Ha3rKYFOF"
   },
   "source": [
    "in Fullfil via both Direct Drop And From Rdc has first Line Desigination as YES and NO  Hailti Field office  not in Line Desigination"
   ]
  },
  {
   "cell_type": "markdown",
   "metadata": {
    "id": "EuoqtL4bdJii"
   },
   "source": [
    "column vendor INCO Term checking relation with other columns"
   ]
  },
  {
   "cell_type": "code",
   "execution_count": null,
   "metadata": {
    "colab": {
     "base_uri": "https://localhost:8080/"
    },
    "id": "a7n0-iCYMOTs",
    "outputId": "be2a3a1b-0fe4-4f77-9a52-2b53bc0a1bcc"
   },
   "outputs": [],
   "source": [
    "data['Vendor INCO Term'].value_counts()"
   ]
  },
  {
   "cell_type": "markdown",
   "metadata": {
    "id": "BJRIbDtSdnuP"
   },
   "source": [
    "there are more rows having N/A - From RDC as Vendor INCO Term"
   ]
  },
  {
   "cell_type": "code",
   "execution_count": null,
   "metadata": {
    "colab": {
     "base_uri": "https://localhost:8080/",
     "height": 567
    },
    "id": "yhfPPxf4zGOa",
    "outputId": "1f847741-2c14-4937-f650-9f23a5f4e7a2"
   },
   "outputs": [],
   "source": [
    "sns.countplot(data['Vendor INCO Term'])\n",
    "plt.xticks( rotation='vertical')"
   ]
  },
  {
   "cell_type": "code",
   "execution_count": null,
   "metadata": {
    "colab": {
     "base_uri": "https://localhost:8080/",
     "height": 356
    },
    "id": "NHh7_3-kzMt_",
    "outputId": "8e4832a0-1cc7-4f09-c9e1-ab40a14ed416"
   },
   "outputs": [],
   "source": [
    "sns.scatterplot(data['Vendor INCO Term'],data['Freight Cost (USD)'])"
   ]
  },
  {
   "cell_type": "markdown",
   "metadata": {
    "id": "AZ5LKqwTzpDU"
   },
   "source": [
    "In vendor INCO Term From RDC have more friegth cost Around 150000  ,EXWAround100000  and some outliers,DDP,FCA,CIP are in between 0-50000  butCF,DDU,DAPAremightbe100or200"
   ]
  },
  {
   "cell_type": "code",
   "execution_count": null,
   "metadata": {
    "colab": {
     "base_uri": "https://localhost:8080/",
     "height": 578
    },
    "id": "MItDPYoab2fo",
    "outputId": "2ea05c9c-6a1b-48b0-c1bc-a35a7f065538"
   },
   "outputs": [],
   "source": [
    "sns.scatterplot(data['Vendor INCO Term'],data['Line Item Value'])\n",
    "plt.xticks( rotation='vertical')\n"
   ]
  },
  {
   "cell_type": "markdown",
   "metadata": {
    "id": "ZvFQLSr1cQjE"
   },
   "source": [
    "From RDC is shipping  more item value compared any othee vendor INCO Term"
   ]
  },
  {
   "cell_type": "code",
   "execution_count": null,
   "metadata": {
    "colab": {
     "base_uri": "https://localhost:8080/",
     "height": 354
    },
    "id": "i8t9nA7YzkfH",
    "outputId": "a90c255a-5581-4635-fc47-5c2686d7e990"
   },
   "outputs": [],
   "source": [
    "sns.scatterplot(data['Vendor INCO Term'],data['Line Item Quantity'],hue=data['Shipment Mode'])"
   ]
  },
  {
   "cell_type": "markdown",
   "metadata": {
    "id": "uNBevgoP3MkM"
   },
   "source": [
    "From RDC  more line Quantity  in Air,Truck.and Air Charter shipment mode DDP has more line Item Quantity in Ocean Shipment Mode"
   ]
  },
  {
   "cell_type": "code",
   "execution_count": null,
   "metadata": {
    "colab": {
     "base_uri": "https://localhost:8080/"
    },
    "id": "HboGYT9rc0Qn",
    "outputId": "a04f0d13-6fa9-4a72-c4ad-97defed77b0a"
   },
   "outputs": [],
   "source": [
    "data['Shipment Mode'].value_counts()"
   ]
  },
  {
   "cell_type": "markdown",
   "metadata": {
    "id": "aHABi89EdOjp"
   },
   "source": [
    "More Items are shipping in Air shipment mode "
   ]
  },
  {
   "cell_type": "code",
   "execution_count": null,
   "metadata": {
    "colab": {
     "base_uri": "https://localhost:8080/",
     "height": 356
    },
    "id": "0YHASTyldRS4",
    "outputId": "166c2c62-ea09-4b12-d671-8c4dd69cb2f0"
   },
   "outputs": [],
   "source": [
    "sns.scatterplot('Shipment Mode','Freight Cost (USD)',data=data)"
   ]
  },
  {
   "cell_type": "markdown",
   "metadata": {
    "id": "ZnlQHJpJeE89"
   },
   "source": [
    "Air shipment mode is costly as compared to other shoment modes"
   ]
  },
  {
   "cell_type": "code",
   "execution_count": null,
   "metadata": {
    "colab": {
     "base_uri": "https://localhost:8080/",
     "height": 354
    },
    "id": "_VnKaxDLdRKT",
    "outputId": "c44ab8ff-4956-4f25-eacc-83babe855251"
   },
   "outputs": [],
   "source": [
    "sns.scatterplot('Shipment Mode','Weight (Kilograms)',data=data,)"
   ]
  },
  {
   "cell_type": "markdown",
   "metadata": {
    "id": "KYC2_sUOeSYD"
   },
   "source": [
    "Air shipment mode is carrying more weight but Truch and Air Charter Shipments carrying consistant weights"
   ]
  },
  {
   "cell_type": "code",
   "execution_count": null,
   "metadata": {
    "colab": {
     "base_uri": "https://localhost:8080/",
     "height": 354
    },
    "id": "lU8KAjmUeztb",
    "outputId": "bc0dda1a-a8cd-4589-f581-c7c0737dfdb7"
   },
   "outputs": [],
   "source": [
    "sns.scatterplot('Shipment Mode','Product Group',data=data)"
   ]
  },
  {
   "cell_type": "markdown",
   "metadata": {
    "id": "tUYm-Jjrf5f_"
   },
   "source": [
    "Air shipment mode is carrying more product Groups compared other modes"
   ]
  },
  {
   "cell_type": "code",
   "execution_count": null,
   "metadata": {
    "colab": {
     "base_uri": "https://localhost:8080/",
     "height": 470
    },
    "id": "U-AaxqiMgzrk",
    "outputId": "e9a8da58-dac4-48a7-fa4f-d00a74c41b8e"
   },
   "outputs": [],
   "source": [
    "sns.catplot('Shipment Mode','Sub Classification',data=data,)\n",
    "plt.xticks( rotation='vertical')\n",
    "plt.show()"
   ]
  },
  {
   "cell_type": "markdown",
   "metadata": {
    "id": "IyrsFBCfPYQ-"
   },
   "source": [
    "Air shipment mode is shipping all sub classifications  but other modes are shipping maximum 4 sub classifications"
   ]
  },
  {
   "cell_type": "code",
   "execution_count": null,
   "metadata": {
    "colab": {
     "base_uri": "https://localhost:8080/",
     "height": 414
    },
    "id": "9SvPmIBpFNzW",
    "outputId": "e59b9c4d-4b55-4926-9a9e-7ab1f122489f"
   },
   "outputs": [],
   "source": [
    "sns.catplot(x=\"Shipment Mode\",hue=\"Product Group\", y=\"Weight (Kilograms)\", kind=\"bar\", data=data)\n",
    "plt.xticks( rotation='vertical')\n",
    "plt.show()\n"
   ]
  },
  {
   "cell_type": "markdown",
   "metadata": {
    "id": "Y5JiEgpKIIdh"
   },
   "source": [
    "In Air shipment mode prod3uct groups HRDT,ARV,ACT,MRDT,ANTM are shipping with less weight with maximum weight of nesrly 2500 kgs. But in Truck and OCean shipment mode product group ARV is shipping more and product group HRDT is shipping less.In Air Charter shipping mode oinly product group ARV is shipping"
   ]
  },
  {
   "cell_type": "code",
   "execution_count": null,
   "metadata": {
    "colab": {
     "base_uri": "https://localhost:8080/",
     "height": 414
    },
    "id": "9rSCKy_SGRWX",
    "outputId": "d8a2531b-27bf-411a-db50-922657ecd914"
   },
   "outputs": [],
   "source": [
    "sns.catplot(x=\"Shipment Mode\",hue=\"Product Group\", y=\"Freight Cost (USD)\", kind=\"bar\", data=data)\n",
    "plt.xticks( rotation='vertical')\n",
    "plt.show()"
   ]
  },
  {
   "cell_type": "markdown",
   "metadata": {
    "id": "PM5tu9AmM7hJ"
   },
   "source": [
    "Ocean and Air Charter shipment modes shipping product group HRDT and ARV with max freight cost of 25000"
   ]
  },
  {
   "cell_type": "code",
   "execution_count": null,
   "metadata": {
    "id": "77j6A8BtL-DT"
   },
   "outputs": [],
   "source": []
  },
  {
   "cell_type": "markdown",
   "metadata": {
    "id": "NdTv1og7NjV5"
   },
   "source": [
    "Product Group varable"
   ]
  },
  {
   "cell_type": "code",
   "execution_count": null,
   "metadata": {
    "colab": {
     "base_uri": "https://localhost:8080/",
     "height": 387
    },
    "id": "7Yl4Qyn9K3kX",
    "outputId": "69d6f049-a45e-43f8-ecae-884ac1d72301"
   },
   "outputs": [],
   "source": [
    "sns.catplot(x=\"Product Group\", y=\"Freight Cost (USD)\", kind=\"bar\", data=data)"
   ]
  },
  {
   "cell_type": "markdown",
   "metadata": {
    "id": "e-0OEDiJRR_b"
   },
   "source": [
    "ARV Product group shipping with more freight cost of >120000 usd  next HRDT with 120000 usd"
   ]
  },
  {
   "cell_type": "code",
   "execution_count": null,
   "metadata": {
    "id": "WkJouHYNRPrk"
   },
   "outputs": [],
   "source": []
  },
  {
   "cell_type": "code",
   "execution_count": null,
   "metadata": {
    "colab": {
     "base_uri": "https://localhost:8080/",
     "height": 387
    },
    "id": "aCrgVL9ALGUv",
    "outputId": "97e2ce79-01fb-4b4a-cc6c-d3f4dec93b2c"
   },
   "outputs": [],
   "source": [
    "sns.catplot(x=\"Product Group\", y=\"Weight (Kilograms)\",kind=\"bar\", data=data)"
   ]
  },
  {
   "cell_type": "markdown",
   "metadata": {
    "id": "4rXwcen7RzFU"
   },
   "source": [
    "product grioup ARV shiiping more weight with 5000kgs "
   ]
  },
  {
   "cell_type": "markdown",
   "metadata": {
    "id": "nf3jc-BUSV5b"
   },
   "source": [
    "Sub Classification\t variable"
   ]
  },
  {
   "cell_type": "code",
   "execution_count": null,
   "metadata": {
    "colab": {
     "base_uri": "https://localhost:8080/"
    },
    "id": "YXAppnNxSCym",
    "outputId": "a8a16681-8a68-4cee-f415-cca1fa03b329"
   },
   "outputs": [],
   "source": [
    "data['Sub Classification'].value_counts()"
   ]
  },
  {
   "cell_type": "code",
   "execution_count": null,
   "metadata": {
    "colab": {
     "base_uri": "https://localhost:8080/",
     "height": 418
    },
    "id": "gOqRtrqMSR17",
    "outputId": "8d49b7ca-9662-42aa-c09d-4327e9ede2bb"
   },
   "outputs": [],
   "source": [
    "sns.countplot(data['Sub Classification'])\n",
    "plt.xticks( rotation='vertical')\n",
    "plt.show()"
   ]
  },
  {
   "cell_type": "code",
   "execution_count": null,
   "metadata": {
    "colab": {
     "base_uri": "https://localhost:8080/",
     "height": 299
    },
    "id": "ehMv0dbsSyz0",
    "outputId": "3d5cd066-c04b-4042-a838-f8ae112ee0dd"
   },
   "outputs": [],
   "source": [
    "sns.scatterplot(x='Sub Classification',y='Freight Cost (USD)',data=data)"
   ]
  },
  {
   "cell_type": "code",
   "execution_count": null,
   "metadata": {
    "colab": {
     "base_uri": "https://localhost:8080/",
     "height": 654
    },
    "id": "XPkrpjQBTdaM",
    "outputId": "f4f8df68-4d1a-45d7-c1f5-46ea1296efea"
   },
   "outputs": [],
   "source": [
    "#sns.catplot(x='Sub Classification',y='Freight Cost (USD)',data=data,kind='swarm')\n",
    "plt.xticks( rotation='vertical')\n",
    "plt.show()"
   ]
  },
  {
   "cell_type": "markdown",
   "metadata": {
    "id": "AqLZ3B_HfzKn"
   },
   "source": [
    "If We Consider HIV Test points as outliers Adult ,pediatric subclassification has more fright cost"
   ]
  },
  {
   "cell_type": "code",
   "execution_count": null,
   "metadata": {
    "colab": {
     "base_uri": "https://localhost:8080/",
     "height": 452
    },
    "id": "2CCgHqqLelzE",
    "outputId": "195a9f79-feac-468b-fc02-8683364e8cfd"
   },
   "outputs": [],
   "source": [
    "sns.catplot(x='Sub Classification',y='Line Item Value',data=data,kind='bar')\n",
    "plt.xticks( rotation='vertical')\n",
    "plt.show()"
   ]
  },
  {
   "cell_type": "markdown",
   "metadata": {
    "id": "KHQjWe9gfRbQ"
   },
   "source": [
    "Adult Sub Classification items are more in LIne Item Values"
   ]
  },
  {
   "cell_type": "code",
   "execution_count": null,
   "metadata": {
    "colab": {
     "base_uri": "https://localhost:8080/"
    },
    "id": "xAHo-WKngXNJ",
    "outputId": "c882b7ea-0ac4-41ce-d0d8-a48cf41a61b3"
   },
   "outputs": [],
   "source": [
    "data['Brand'].value_counts()"
   ]
  },
  {
   "cell_type": "code",
   "execution_count": null,
   "metadata": {
    "colab": {
     "base_uri": "https://localhost:8080/",
     "height": 400
    },
    "id": "ZTEaSoU6gpV3",
    "outputId": "9c0398f3-8f3b-43f1-c2ce-064f2d431e3b",
    "scrolled": true
   },
   "outputs": [],
   "source": [
    "sns.countplot(data['Brand'],orient= 'h')\n",
    "plt.xticks( rotation='vertical')\n",
    "plt.show()"
   ]
  },
  {
   "cell_type": "code",
   "execution_count": null,
   "metadata": {},
   "outputs": [],
   "source": [
    "sns.catplot(data=data, y=\"Freight Cost (USD)\",x=\"Brand\",height=5,aspect=6,col='Fulfill Via')\n",
    "plt.xticks( rotation='vertical')\n",
    "plt.show()"
   ]
  },
  {
   "cell_type": "markdown",
   "metadata": {},
   "source": [
    "Generic brand has high freight cost in Both From RDC and Direct Drop "
   ]
  },
  {
   "cell_type": "code",
   "execution_count": null,
   "metadata": {},
   "outputs": [],
   "source": [
    "sns.catplot(data=data,x=\"Brand\",y=\"Freight Cost (USD)\",height=5,aspect=8,col='Shipment Mode')\n",
    "plt.xticks( rotation='vertical')\n",
    "plt.show()"
   ]
  },
  {
   "cell_type": "markdown",
   "metadata": {},
   "source": [
    "Generic ,Deermine brand are shipping more in Air shipment mode and generic brand is shipping in all shiping modes"
   ]
  },
  {
   "cell_type": "markdown",
   "metadata": {},
   "source": [
    "variable First Line Designation"
   ]
  },
  {
   "cell_type": "code",
   "execution_count": null,
   "metadata": {},
   "outputs": [],
   "source": [
    "data['First Line Designation'].value_counts()"
   ]
  },
  {
   "cell_type": "code",
   "execution_count": null,
   "metadata": {},
   "outputs": [],
   "source": [
    "sns.catplot(x='First Line Designation',y='Line Item Value',data=data,kind='bar')\n",
    "plt.xticks( rotation='vertical')\n",
    "plt.show()"
   ]
  },
  {
   "cell_type": "markdown",
   "metadata": {},
   "source": [
    "more items are in where  first line destination is yes "
   ]
  },
  {
   "cell_type": "code",
   "execution_count": null,
   "metadata": {},
   "outputs": [],
   "source": [
    "data.head()"
   ]
  },
  {
   "cell_type": "code",
   "execution_count": null,
   "metadata": {},
   "outputs": [],
   "source": [
    "#data['Weight (Kilograms)'].mean()"
   ]
  },
  {
   "cell_type": "code",
   "execution_count": null,
   "metadata": {},
   "outputs": [],
   "source": [
    "#data['Weight (Kilograms)']=data['Weight (Kilograms)'].fillna(data['Weight (Kilograms)'].mean())"
   ]
  },
  {
   "cell_type": "code",
   "execution_count": null,
   "metadata": {},
   "outputs": [],
   "source": [
    "#data['Freight Cost (USD)'].mean()"
   ]
  },
  {
   "cell_type": "code",
   "execution_count": null,
   "metadata": {},
   "outputs": [],
   "source": [
    "#data['Freight Cost (USD)']=data['Freight Cost (USD)'].fillna(data['Freight Cost (USD)'].mean())"
   ]
  },
  {
   "cell_type": "code",
   "execution_count": null,
   "metadata": {
    "scrolled": true
   },
   "outputs": [],
   "source": [
    "#data['Line Item Insurance (USD)'].mean()"
   ]
  },
  {
   "cell_type": "code",
   "execution_count": null,
   "metadata": {},
   "outputs": [],
   "source": [
    "#data['Line Item Insurance (USD)']=data['Line Item Insurance (USD)'].fillna(data['Line Item Insurance (USD)'].mean())"
   ]
  },
  {
   "cell_type": "code",
   "execution_count": null,
   "metadata": {},
   "outputs": [],
   "source": [
    "data['congsignment price']=data['Freight Cost (USD)']+data['Line Item Insurance (USD)']"
   ]
  },
  {
   "cell_type": "code",
   "execution_count": null,
   "metadata": {},
   "outputs": [],
   "source": [
    "data.head()"
   ]
  },
  {
   "cell_type": "code",
   "execution_count": null,
   "metadata": {
    "colab": {
     "base_uri": "https://localhost:8080/",
     "height": 634
    },
    "id": "F9ispDlM6bko",
    "outputId": "d22bbab8-2f7a-4237-bf18-0c0952bbc174"
   },
   "outputs": [],
   "source": [
    "from sklearn.model_selection import train_test_split\n",
    "from sklearn.compose import ColumnTransformer\n",
    "from sklearn.preprocessing import OneHotEncoder,MinMaxScaler,StandardScaler\n",
    "from sklearn.impute import SimpleImputer\n",
    "from sklearn.pipeline import Pipeline,make_pipeline\n",
    "from sklearn.tree import  DecisionTreeRegressor"
   ]
  },
  {
   "cell_type": "code",
   "execution_count": null,
   "metadata": {},
   "outputs": [],
   "source": [
    "x=data.drop(['Scheduled Delivery Date', 'Delivered to Client Date',\n",
    "       'Delivery Recorded Date', 'Vendor', 'Item Description',\n",
    "       'Molecule/Test Type', 'Dosage', 'Unit of Measure (Per Pack)',\n",
    "       'Line Item Value', 'Pack Price', 'Unit Price', 'Manufacturing Site',\n",
    "       'Line Item Insurance (USD)', 'Freight Cost (USD)','congsignment price'],axis=1)"
   ]
  },
  {
   "cell_type": "code",
   "execution_count": null,
   "metadata": {},
   "outputs": [],
   "source": [
    "x"
   ]
  },
  {
   "cell_type": "code",
   "execution_count": null,
   "metadata": {},
   "outputs": [],
   "source": [
    "y=data['congsignment price']"
   ]
  },
  {
   "cell_type": "code",
   "execution_count": null,
   "metadata": {
    "scrolled": true
   },
   "outputs": [],
   "source": [
    "y.mean()"
   ]
  },
  {
   "cell_type": "code",
   "execution_count": null,
   "metadata": {},
   "outputs": [],
   "source": [
    "y=y.fillna(12641.0)"
   ]
  },
  {
   "cell_type": "code",
   "execution_count": null,
   "metadata": {},
   "outputs": [],
   "source": [
    "y.isnull().sum()"
   ]
  },
  {
   "cell_type": "code",
   "execution_count": null,
   "metadata": {},
   "outputs": [],
   "source": [
    " x_train, x_test, y_train, y_test = train_test_split( x, y, test_size=0.30, random_state=40)"
   ]
  },
  {
   "cell_type": "code",
   "execution_count": null,
   "metadata": {
    "scrolled": true
   },
   "outputs": [],
   "source": [
    "x_train"
   ]
  },
  {
   "cell_type": "code",
   "execution_count": null,
   "metadata": {
    "scrolled": false
   },
   "outputs": [],
   "source": [
    "#x.columns"
   ]
  },
  {
   "cell_type": "code",
   "execution_count": null,
   "metadata": {},
   "outputs": [],
   "source": [
    "\n",
    "numeric_transformer = Pipeline(steps=[(\"imputer\", SimpleImputer(strategy=\"mean\")), (\"scaler\", StandardScaler())])"
   ]
  },
  {
   "cell_type": "code",
   "execution_count": null,
   "metadata": {},
   "outputs": [],
   "source": [
    "categorical_transformer = Pipeline(\n",
    "    steps=[\n",
    "        ('imputer',SimpleImputer(strategy='most_frequent')),\n",
    "        (\"encoder\", OneHotEncoder(handle_unknown=\"ignore\"))\n",
    "        \n",
    "    ])"
   ]
  },
  {
   "cell_type": "code",
   "execution_count": null,
   "metadata": {},
   "outputs": [],
   "source": [
    "preprocessor = ColumnTransformer(\n",
    "    transformers=[\n",
    "        (\"num\", numeric_transformer,[9,11] ),\n",
    "        (\"cat\", categorical_transformer,[0,1,2,3,4,5,6,7,8,10])    ]\n",
    ")"
   ]
  },
  {
   "cell_type": "code",
   "execution_count": null,
   "metadata": {},
   "outputs": [],
   "source": [
    "dt = Pipeline(\n",
    "    steps=[(\"preprocessor\", preprocessor), (\"classifier\",DecisionTreeRegressor(max_depth=8))]\n",
    ")"
   ]
  },
  {
   "cell_type": "code",
   "execution_count": null,
   "metadata": {},
   "outputs": [],
   "source": [
    "dt.fit(x_train,y_train)"
   ]
  },
  {
   "cell_type": "code",
   "execution_count": null,
   "metadata": {},
   "outputs": [],
   "source": [
    "y_pred=dt.predict(x_test)"
   ]
  },
  {
   "cell_type": "code",
   "execution_count": null,
   "metadata": {},
   "outputs": [],
   "source": [
    " from sklearn.metrics import r2_score,mean_squared_error"
   ]
  },
  {
   "cell_type": "code",
   "execution_count": null,
   "metadata": {},
   "outputs": [],
   "source": [
    "\n",
    "    r2 = r2_score(y_test,y_pred)\n",
    "    rmse = np.sqrt(mean_squared_error(y_test,y_pred))"
   ]
  },
  {
   "cell_type": "code",
   "execution_count": null,
   "metadata": {},
   "outputs": [],
   "source": [
    "r2"
   ]
  },
  {
   "cell_type": "code",
   "execution_count": null,
   "metadata": {
    "scrolled": true
   },
   "outputs": [],
   "source": [
    "rmse"
   ]
  },
  {
   "cell_type": "code",
   "execution_count": null,
   "metadata": {},
   "outputs": [],
   "source": [
    "from sklearn.ensemble import RandomForestRegressor"
   ]
  },
  {
   "cell_type": "code",
   "execution_count": null,
   "metadata": {},
   "outputs": [],
   "source": [
    "rf = Pipeline(\n",
    "    steps=[(\"preprocessor\", preprocessor), (\"classifier\",RandomForestRegressor())]\n",
    ")"
   ]
  },
  {
   "cell_type": "code",
   "execution_count": null,
   "metadata": {},
   "outputs": [],
   "source": [
    "rf.fit(x_train,y_train)"
   ]
  },
  {
   "cell_type": "code",
   "execution_count": null,
   "metadata": {},
   "outputs": [],
   "source": [
    "y_pred1=rf.predict(x_test)"
   ]
  },
  {
   "cell_type": "code",
   "execution_count": null,
   "metadata": {},
   "outputs": [],
   "source": [
    "\n",
    "    r21 = r2_score(y_test,y_pred1)\n",
    "    rmse1 = np.sqrt(mean_squared_error(y_test,y_pred1))"
   ]
  },
  {
   "cell_type": "code",
   "execution_count": null,
   "metadata": {},
   "outputs": [],
   "source": [
    "r21"
   ]
  },
  {
   "cell_type": "code",
   "execution_count": null,
   "metadata": {},
   "outputs": [],
   "source": [
    "rmse1"
   ]
  },
  {
   "cell_type": "code",
   "execution_count": null,
   "metadata": {},
   "outputs": [],
   "source": [
    "import pickle"
   ]
  },
  {
   "cell_type": "code",
   "execution_count": null,
   "metadata": {},
   "outputs": [],
   "source": [
    "pickle.dump(dt,open('Decission tree.pkl','wb'))"
   ]
  },
  {
   "cell_type": "code",
   "execution_count": null,
   "metadata": {
    "scrolled": true
   },
   "outputs": [],
   "source": [
    "x_train"
   ]
  },
  {
   "cell_type": "code",
   "execution_count": null,
   "metadata": {},
   "outputs": [],
   "source": [
    "x['Country'].unique()"
   ]
  },
  {
   "cell_type": "code",
   "execution_count": null,
   "metadata": {},
   "outputs": [],
   "source": [
    "x['Managed By'].unique()"
   ]
  },
  {
   "cell_type": "code",
   "execution_count": null,
   "metadata": {},
   "outputs": [],
   "source": [
    "x['Fulfill Via'].unique()"
   ]
  },
  {
   "cell_type": "code",
   "execution_count": null,
   "metadata": {},
   "outputs": [],
   "source": [
    "x['Vendor INCO Term'].unique()"
   ]
  },
  {
   "cell_type": "code",
   "execution_count": null,
   "metadata": {},
   "outputs": [],
   "source": [
    "x['Shipment Mode'].unique()"
   ]
  },
  {
   "cell_type": "code",
   "execution_count": null,
   "metadata": {},
   "outputs": [],
   "source": [
    "data['Product Group'].unique()"
   ]
  },
  {
   "cell_type": "code",
   "execution_count": null,
   "metadata": {},
   "outputs": [],
   "source": [
    "data['Sub Classification'].unique()"
   ]
  },
  {
   "cell_type": "code",
   "execution_count": null,
   "metadata": {},
   "outputs": [],
   "source": [
    "data['Brand'].unique()"
   ]
  },
  {
   "cell_type": "code",
   "execution_count": null,
   "metadata": {},
   "outputs": [],
   "source": [
    "data['Dosage Form'].unique()"
   ]
  },
  {
   "cell_type": "code",
   "execution_count": null,
   "metadata": {},
   "outputs": [],
   "source": [
    "data.sample(5)"
   ]
  },
  {
   "cell_type": "code",
   "execution_count": null,
   "metadata": {},
   "outputs": [],
   "source": []
  }
 ],
 "metadata": {
  "colab": {
   "provenance": []
  },
  "kernelspec": {
   "display_name": "Python 3 (ipykernel)",
   "language": "python",
   "name": "python3"
  },
  "language_info": {
   "codemirror_mode": {
    "name": "ipython",
    "version": 3
   },
   "file_extension": ".py",
   "mimetype": "text/x-python",
   "name": "python",
   "nbconvert_exporter": "python",
   "pygments_lexer": "ipython3",
   "version": "3.9.13"
  }
 },
 "nbformat": 4,
 "nbformat_minor": 1
}
